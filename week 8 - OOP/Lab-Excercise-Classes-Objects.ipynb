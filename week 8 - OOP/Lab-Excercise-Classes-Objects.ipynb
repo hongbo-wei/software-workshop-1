{
 "cells": [
  {
   "cell_type": "markdown",
   "id": "87508cf4",
   "metadata": {},
   "source": [
    "## Task-1"
   ]
  },
  {
   "cell_type": "markdown",
   "id": "31723520",
   "metadata": {},
   "source": [
    "You have been given the below code that throw some errors. You need to identify these errors and fix the code"
   ]
  },
  {
   "cell_type": "code",
   "execution_count": null,
   "id": "7365cf26",
   "metadata": {},
   "outputs": [],
   "source": [
    "class Pizza:\n",
    "        def __int__(crust_type, toppings, sauce, diameter):\n",
    "                self.crust_type = crust_type\n",
    "                self.toppings = toppings\n",
    "                sauce = self.sauce\n",
    "                self.diameter = diameter\n",
    "\n",
    "class Patron:\n",
    "    def __init_(self, name, age, email, favorite_pizza):\n",
    "        self.name = name\n",
    "        age = self.age\n",
    "        self.email = email\n",
    "        self.favorite_pizza = favorite_pizza\n",
    "Pie:\n",
    "    _init_(self, type, cost, is_vegan):\n",
    "        type = self.type\n",
    "        self.cost = cost\n",
    "        self.is_vegan = is_vegan\n"
   ]
  },
  {
   "cell_type": "markdown",
   "id": "b3def482",
   "metadata": {},
   "source": [
    "## Task-2"
   ]
  },
  {
   "cell_type": "markdown",
   "id": "d0ac8cfa",
   "metadata": {},
   "source": [
    "**Building a Movie Class with Unique IDs** <br>\n",
    "\n",
    "**Objective:** Understand the implementation of class and instance attributes, and how to manage unique identifiers for each class instance in Python. <br>\n",
    "\n",
    "**Task Description:**\n",
    "> Define a class named **Movie**. <br>\n",
    "> > Within the class, create a class attribute named **id_counter** initialized to 0. This attribute will track the next available ID for new movie instances. <br>\n",
    "> > Define the **_ _init_ _** method to accept **title** and **rating** as parameters. Additionally, the **_ _init_ _** method should automatically set an **id** instance attribute by incrementing **Movie.id_counter** and assign this new value to the **id**.\n",
    "\n",
    "> Ensure that each new **Movie** instance has a unique **id** by incrementing **Movie.id_counter** each time a new instance is created.<br>\n",
    "> Inside the **Movie** class, define a method info that prints out the movie's ID, title, and rating in a readable format.<br>\n",
    "Test your class:<br>\n",
    "> > Create an instance of the **Movie** class with the title \"Inception\" and a rating of 8.8.\n",
    "> > Create another instance of the **Movie** class with the title \"The Matrix\" and a rating of 8.7.\n",
    "> > Call the **info** method on both instances to display their information.\n",
    "\n",
    "**Expected Output:** When calling the **info** method on your **Movie** instances, the output should display the ID, title, and rating of each movie, like so:\n",
    "\n",
    "\n",
    "ID: 1, Title: Inception, Rating: 8.8ID: 2, Title: The Matrix, Rating: 8.7\n",
    "\n",
    "\n",
    "\n",
    "**Guidelines:** <br>\n",
    "> > Remember that the **id_counter** should be incremented only within the _ _init_ _ method.\n",
    "> > Do not forget to use the **self** keyword when working with instance attributes.\n",
    "> > Use the **@classmethod** decorator if you decide to create a class method to increment the **id_counter**.\n",
    "> > Provide comments in your code to explain the purpose of each method and attribute."
   ]
  },
  {
   "cell_type": "markdown",
   "id": "732f413c",
   "metadata": {},
   "source": [
    "## Task-3"
   ]
  },
  {
   "attachments": {},
   "cell_type": "markdown",
   "id": "20608e08",
   "metadata": {},
   "source": [
    "You have been given the uncompleted code below for an HR system that includes payroll functionality. \n",
    "Your task is to complete the classes by including the necessary class attributes.<br> First, you need to analyze the **process_payroll** function located at the bottom of the code below. From that code, you need to determine the attributes that each class must contain. After a bit of thinking, you have determined that these attributes are shared by all instances of the classes, hence they should be class attribute. Please assign realistic values to these attributes.<br>\n",
    "Note: Within the **process_payroll** function, class attributes are accessed using the syntax <instance>.<attribute>."
   ]
  },
  {
   "cell_type": "code",
   "execution_count": null,
   "id": "c007c10e",
   "metadata": {},
   "outputs": [],
   "source": [
    "# Classes ==================================================================\n",
    "\n",
    "class HRManager:\n",
    "    \n",
    "    # Add the class attributes\n",
    "\n",
    "    def __init__(self, name, age, department, phone):\n",
    "        self.name = name\n",
    "        self.age = age\n",
    "        self.department = department\n",
    "        self.phone = phone\n",
    "\n",
    "class Employee:\n",
    "    \n",
    "    # Add the class attributes\n",
    "\n",
    "    def __init__(self, name, age, address, phone, department):\n",
    "        self.name = name\n",
    "        self.age = age\n",
    "        self.address = address\n",
    "        self.phone = phone\n",
    "        self.department = department\n",
    "\n",
    "# Program ==================================================================\n",
    "\n",
    "# Function that prints the monthly salary of each employee\n",
    "# and the total payroll expense for the company\n",
    "def process_payroll(employees):\n",
    "\n",
    "    total_payroll_expense = 0\n",
    "    print(\"\\n========= Welcome to the HR Payroll System =========\\n\")\n",
    "\n",
    "    # Iterate over the list of instances to calculate\n",
    "    # and display the monthly salary for each employee,\n",
    "    # and add the total payroll expense\n",
    "    for emp in employees:\n",
    "        monthly_salary = emp.annual_salary / 12\n",
    "        print(f\"{emp.name.capitalize()}'s monthly salary is: ${monthly_salary:.2f}\")\n",
    "        total_payroll_expense += monthly_salary\n",
    "\n",
    "    # Print the total payroll expense for the month\n",
    "    print(\"\\nThe total payroll expense for the month is: $\", total_payroll_expense)\n",
    "\n",
    "# Instances (employees)\n",
    "jack = HRManager(\"jack\", 50, \"Human Resources\", \"555-321-4567\")\n",
    "isabel = Employee(\"isabel\", 28, \"123 Maple St\", \"555-654-1234\", \"Marketing\")\n",
    "\n",
    "# List of employee instances\n",
    "employees = [jack, isabel]\n",
    "\n",
    "# Call the function, passing in the list of employee instances\n",
    "process_payroll(employees)\n"
   ]
  }
 ],
 "metadata": {
  "kernelspec": {
   "display_name": "Python 3 (ipykernel)",
   "language": "python",
   "name": "python3"
  },
  "language_info": {
   "codemirror_mode": {
    "name": "ipython",
    "version": 3
   },
   "file_extension": ".py",
   "mimetype": "text/x-python",
   "name": "python",
   "nbconvert_exporter": "python",
   "pygments_lexer": "ipython3",
   "version": "3.9.13"
  }
 },
 "nbformat": 4,
 "nbformat_minor": 5
}
