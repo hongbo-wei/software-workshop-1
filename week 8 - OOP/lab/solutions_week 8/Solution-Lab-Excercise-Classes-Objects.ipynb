{
 "cells": [
  {
   "cell_type": "markdown",
   "id": "87508cf4",
   "metadata": {},
   "source": [
    "## Task-1\n",
    "\n",
    "#### Solution"
   ]
  },
  {
   "cell_type": "code",
   "execution_count": 13,
   "id": "7365cf26",
   "metadata": {},
   "outputs": [],
   "source": [
    "class Pizza:\n",
    "    def __init__(self, crust_type, toppings, sauce, diameter):\n",
    "        self.crust_type = crust_type\n",
    "        self.toppings = toppings\n",
    "        self.sauce = sauce\n",
    "        self.diameter = diameter\n",
    "\n",
    "class Patron:\n",
    "    def __init__(self, name, age, email, favorite_pizza):\n",
    "        self.name = name\n",
    "        self.age = age\n",
    "        self.email = email\n",
    "        self.favorite_pizza = favorite_pizza\n",
    "\n",
    "class Pie:\n",
    "    def __init__(self, type, cost, is_vegan):\n",
    "        self.type = type\n",
    "        self.cost = cost\n",
    "        self.is_vegan = is_vegan\n"
   ]
  },
  {
   "cell_type": "markdown",
   "id": "b3def482",
   "metadata": {},
   "source": [
    "## Task-2\n",
    "\n",
    "#### Solution"
   ]
  },
  {
   "cell_type": "code",
   "execution_count": 14,
   "id": "d40be008",
   "metadata": {},
   "outputs": [
    {
     "name": "stdout",
     "output_type": "stream",
     "text": [
      "ID: 1, Title: Inception, Rating: 8.8\n",
      "ID: 2, Title: The Matrix, Rating: 8.7\n"
     ]
    }
   ],
   "source": [
    "class Movie:\n",
    "    \n",
    "    # Class attribute to track the next available ID for new movie instances\n",
    "    id_counter = 0\n",
    "\n",
    "    def __init__(self, title, rating):\n",
    "\n",
    "        # Increment the id_counter to get the next available ID\n",
    "        Movie.id_counter += 1\n",
    "\n",
    "        # Assign the new value of id to the instance attribute\n",
    "        self.id = Movie.id_counter\n",
    "\n",
    "        # Assign other attributes\n",
    "        self.title = title\n",
    "        self.rating = rating\n",
    "\n",
    "    def info(self):\n",
    "        \"\"\"\n",
    "        Method to print out the movie's ID, title, and rating in a readable format.\n",
    "        \"\"\"\n",
    "        print(f\"ID: {self.id}, Title: {self.title}, Rating: {self.rating}\")\n",
    "\n",
    "# Test the Movie class\n",
    "inception = Movie(\"Inception\", 8.8)\n",
    "\n",
    "\n",
    "the_matrix = Movie(\"The Matrix\", 8.7)\n",
    "\n",
    "# Call the info method on both instances to display their information\n",
    "inception.info()\n",
    "the_matrix.info()"
   ]
  },
  {
   "cell_type": "markdown",
   "id": "732f413c",
   "metadata": {},
   "source": [
    "## Task-3\n",
    "\n",
    "#### Solution"
   ]
  },
  {
   "cell_type": "code",
   "execution_count": 15,
   "id": "a21e6657",
   "metadata": {},
   "outputs": [
    {
     "name": "stdout",
     "output_type": "stream",
     "text": [
      "\n",
      "========= Welcome to the HR Payroll System =========\n",
      "\n",
      "Jack's monthly salary is: $58333.33\n",
      "Isabel's monthly salary is: $45833.33\n",
      "\n",
      "The total payroll expense for the month is: $ 104166.66666666667\n"
     ]
    }
   ],
   "source": [
    "# Classes ==================================================================\n",
    "\n",
    "class HRManager:\n",
    "    \n",
    "    # Class attribute\n",
    "    annual_salary = 700000  # Example annual salary for HR managers\n",
    "    \n",
    "    def __init__(self, name, age, department, phone):\n",
    "        self.name = name\n",
    "        self.age = age\n",
    "        self.department = department\n",
    "        self.phone = phone\n",
    "\n",
    "class Employee:\n",
    "    \n",
    "    # Class attribute\n",
    "    annual_salary = 550000  # Example annual salary for employees\n",
    "    \n",
    "    def __init__(self, name, age, address, phone, department):\n",
    "        self.name = name\n",
    "        self.age = age\n",
    "        self.address = address\n",
    "        self.phone = phone\n",
    "        self.department = department\n",
    "\n",
    "# Program ==================================================================\n",
    "\n",
    "# Function that prints the monthly salary of each employee\n",
    "# and the total payroll expense for the company\n",
    "def process_payroll(employees):\n",
    "\n",
    "    total_payroll_expense = 0\n",
    "    print(\"\\n========= Welcome to the HR Payroll System =========\\n\")\n",
    "\n",
    "    # Iterate over the list of instances to calculate\n",
    "    # and display the monthly salary for each employee,\n",
    "    # and add the total payroll expense\n",
    "    for emp in employees:\n",
    "        monthly_salary = emp.annual_salary / 12\n",
    "        print(f\"{emp.name.capitalize()}'s monthly salary is: ${monthly_salary:.2f}\")\n",
    "        total_payroll_expense += monthly_salary\n",
    "\n",
    "    # Print the total payroll expense for the month\n",
    "    print(\"\\nThe total payroll expense for the month is: $\", total_payroll_expense)\n",
    "\n",
    "# Instances (employees)\n",
    "jack = HRManager(\"jack\", 50, \"Human Resources\", \"555-321-4567\")\n",
    "isabel = Employee(\"isabel\", 28, \"123 Maple St\", \"555-654-1234\", \"Marketing\")\n",
    "\n",
    "# List of employee instances\n",
    "employees = [jack, isabel]\n",
    "\n",
    "# Call the function, passing in the list of employee instances\n",
    "process_payroll(employees)\n"
   ]
  }
 ],
 "metadata": {
  "kernelspec": {
   "display_name": "Python 3 (ipykernel)",
   "language": "python",
   "name": "python3"
  },
  "language_info": {
   "codemirror_mode": {
    "name": "ipython",
    "version": 3
   },
   "file_extension": ".py",
   "mimetype": "text/x-python",
   "name": "python",
   "nbconvert_exporter": "python",
   "pygments_lexer": "ipython3",
   "version": "3.9.13"
  }
 },
 "nbformat": 4,
 "nbformat_minor": 5
}
