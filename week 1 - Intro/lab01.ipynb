{
 "cells": [
  {
   "cell_type": "code",
   "execution_count": 1,
   "id": "be89711d",
   "metadata": {},
   "outputs": [
    {
     "name": "stdout",
     "output_type": "stream",
     "text": [
      "Hello world.\n"
     ]
    }
   ],
   "source": [
    "print(\"Hello world.\")"
   ]
  },
  {
   "cell_type": "code",
   "execution_count": 2,
   "id": "50f73f97",
   "metadata": {},
   "outputs": [
    {
     "name": "stdout",
     "output_type": "stream",
     "text": [
      "Enter your name: Hongbo\n"
     ]
    }
   ],
   "source": [
    "name = input(\"Enter your name: \")"
   ]
  },
  {
   "cell_type": "code",
   "execution_count": 3,
   "id": "54375864",
   "metadata": {},
   "outputs": [
    {
     "data": {
      "text/plain": [
       "'Hongbo'"
      ]
     },
     "execution_count": 3,
     "metadata": {},
     "output_type": "execute_result"
    }
   ],
   "source": [
    "name"
   ]
  },
  {
   "cell_type": "code",
   "execution_count": 4,
   "id": "1687d7bb",
   "metadata": {},
   "outputs": [
    {
     "name": "stdout",
     "output_type": "stream",
     "text": [
      "Hello Hongbo\n"
     ]
    }
   ],
   "source": [
    "print(\"Hello \" + name)"
   ]
  },
  {
   "cell_type": "code",
   "execution_count": 5,
   "id": "4c7229f2",
   "metadata": {},
   "outputs": [
    {
     "data": {
      "text/plain": [
       "8"
      ]
     },
     "execution_count": 5,
     "metadata": {},
     "output_type": "execute_result"
    }
   ],
   "source": [
    "8"
   ]
  },
  {
   "cell_type": "code",
   "execution_count": 6,
   "id": "50d55835",
   "metadata": {},
   "outputs": [
    {
     "data": {
      "text/plain": [
       "16"
      ]
     },
     "execution_count": 6,
     "metadata": {},
     "output_type": "execute_result"
    }
   ],
   "source": [
    "8 * 2"
   ]
  },
  {
   "cell_type": "code",
   "execution_count": 7,
   "id": "345a0fad",
   "metadata": {},
   "outputs": [
    {
     "data": {
      "text/plain": [
       "64"
      ]
     },
     "execution_count": 7,
     "metadata": {},
     "output_type": "execute_result"
    }
   ],
   "source": [
    "8 ** 2"
   ]
  },
  {
   "cell_type": "code",
   "execution_count": 8,
   "id": "1268d18b",
   "metadata": {},
   "outputs": [
    {
     "data": {
      "text/plain": [
       "0.6666666666666666"
      ]
     },
     "execution_count": 8,
     "metadata": {},
     "output_type": "execute_result"
    }
   ],
   "source": [
    "8 / 12"
   ]
  },
  {
   "cell_type": "code",
   "execution_count": 9,
   "id": "fcb085d6",
   "metadata": {},
   "outputs": [
    {
     "data": {
      "text/plain": [
       "0"
      ]
     },
     "execution_count": 9,
     "metadata": {},
     "output_type": "execute_result"
    }
   ],
   "source": [
    "8 // 12"
   ]
  },
  {
   "cell_type": "code",
   "execution_count": 10,
   "id": "979cc05f",
   "metadata": {},
   "outputs": [
    {
     "ename": "ZeroDivisionError",
     "evalue": "division by zero",
     "output_type": "error",
     "traceback": [
      "\u001b[1;31m---------------------------------------------------------------------------\u001b[0m",
      "\u001b[1;31mZeroDivisionError\u001b[0m                         Traceback (most recent call last)",
      "\u001b[1;32m<ipython-input-10-340e47a3b5ce>\u001b[0m in \u001b[0;36m<module>\u001b[1;34m\u001b[0m\n\u001b[1;32m----> 1\u001b[1;33m \u001b[1;36m8\u001b[0m \u001b[1;33m/\u001b[0m \u001b[1;36m0\u001b[0m\u001b[1;33m\u001b[0m\u001b[1;33m\u001b[0m\u001b[0m\n\u001b[0m",
      "\u001b[1;31mZeroDivisionError\u001b[0m: division by zero"
     ]
    }
   ],
   "source": [
    "8 / 0"
   ]
  },
  {
   "cell_type": "code",
   "execution_count": 11,
   "id": "28fef9a5",
   "metadata": {},
   "outputs": [
    {
     "name": "stdout",
     "output_type": "stream",
     "text": [
      "Hongbo is living the the Myriad Dubai, his telephone number is +971 56 666 5946\n"
     ]
    }
   ],
   "source": [
    "print(\"Hongbo is living the the Myriad Dubai, his telephone number is +971 56 666 5946\")"
   ]
  },
  {
   "cell_type": "code",
   "execution_count": 12,
   "id": "c2770f23",
   "metadata": {},
   "outputs": [
    {
     "name": "stdout",
     "output_type": "stream",
     "text": [
      "Your name is Hongbo\n"
     ]
    }
   ],
   "source": [
    "print(\"Your name is\",name)"
   ]
  },
  {
   "cell_type": "code",
   "execution_count": 13,
   "id": "de4c60a6",
   "metadata": {},
   "outputs": [],
   "source": [
    "name = \"Champ\""
   ]
  },
  {
   "cell_type": "code",
   "execution_count": 14,
   "id": "b8b5a266",
   "metadata": {},
   "outputs": [
    {
     "name": "stdout",
     "output_type": "stream",
     "text": [
      "Your name is Champ\n"
     ]
    }
   ],
   "source": [
    "print(\"Your name is\",name)"
   ]
  },
  {
   "cell_type": "code",
   "execution_count": 15,
   "id": "42e6a200",
   "metadata": {},
   "outputs": [
    {
     "name": "stdout",
     "output_type": "stream",
     "text": [
      "Enter with width: 6\n",
      "Enter with height: 10\n",
      "The area is 60 square units.\n"
     ]
    }
   ],
   "source": [
    "width = int(input(\"Enter with width: \"))\n",
    "height = int(input(\"Enter with height: \"))\n",
    "area = width * height\n",
    "print(\"The area is\", area, \"square units.\")"
   ]
  },
  {
   "cell_type": "code",
   "execution_count": 16,
   "id": "50c639e4",
   "metadata": {},
   "outputs": [
    {
     "name": "stdout",
     "output_type": "stream",
     "text": [
      "Enter with base: 6\n",
      "Enter with height: 10\n",
      "The triangle is 30.0 square units.\n"
     ]
    }
   ],
   "source": [
    "base = int(input(\"Enter with base: \"))\n",
    "height = int(input(\"Enter with height: \"))\n",
    "area = .5 * base * height\n",
    "print(\"The triangle is\", area, \"square units.\")"
   ]
  },
  {
   "cell_type": "code",
   "execution_count": 19,
   "id": "790c8836",
   "metadata": {},
   "outputs": [
    {
     "name": "stdout",
     "output_type": "stream",
     "text": [
      "Enter with height: 10\n",
      "The circle is 314.0 square units.\n"
     ]
    }
   ],
   "source": [
    "radius = int(input(\"Enter with height: \"))\n",
    "area = 3.14 * radius ** 2\n",
    "print(\"The circle is\", area, \"square units.\")"
   ]
  },
  {
   "cell_type": "code",
   "execution_count": 20,
   "id": "3c4f5a1d",
   "metadata": {},
   "outputs": [
    {
     "name": "stdout",
     "output_type": "stream",
     "text": [
      "Enter with name: Hongbo\n",
      "Enter with age: 29\n",
      "Hongbo is 29 years old.\n"
     ]
    }
   ],
   "source": [
    "name = input(\"Enter with name: \")\n",
    "age = input(\"Enter with age: \")\n",
    "print(name + \" is \" + age + \" years old.\")"
   ]
  },
  {
   "cell_type": "code",
   "execution_count": 21,
   "id": "62db9214",
   "metadata": {},
   "outputs": [
    {
     "name": "stdout",
     "output_type": "stream",
     "text": [
      "Enter an integer: 10\n",
      "11\n"
     ]
    }
   ],
   "source": [
    "number = int(input(\"Enter an integer: \"))\n",
    "number += 1\n",
    "print(number)"
   ]
  },
  {
   "cell_type": "code",
   "execution_count": 23,
   "id": "63798dbe",
   "metadata": {},
   "outputs": [
    {
     "name": "stdout",
     "output_type": "stream",
     "text": [
      "Enter your name: Hongbo\n"
     ]
    }
   ],
   "source": [
    "first_name = input(\"Enter your name: \")"
   ]
  },
  {
   "cell_type": "code",
   "execution_count": 24,
   "id": "0b3c21ef",
   "metadata": {},
   "outputs": [
    {
     "name": "stdout",
     "output_type": "stream",
     "text": [
      "\n",
      "Welcome to Python 3.8's help utility!\n",
      "\n",
      "If this is your first time using Python, you should definitely check out\n",
      "the tutorial on the Internet at https://docs.python.org/3.8/tutorial/.\n",
      "\n",
      "Enter the name of any module, keyword, or topic to get help on writing\n",
      "Python programs and using Python modules.  To quit this help utility and\n",
      "return to the interpreter, just type \"quit\".\n",
      "\n",
      "To get a list of available modules, keywords, symbols, or topics, type\n",
      "\"modules\", \"keywords\", \"symbols\", or \"topics\".  Each module also comes\n",
      "with a one-line summary of what it does; to list the modules whose name\n",
      "or summary contain a given string such as \"spam\", type \"modules spam\".\n",
      "\n",
      "help> keywords\n",
      "\n",
      "Here is a list of the Python keywords.  Enter any keyword to get more help.\n",
      "\n",
      "False               class               from                or\n",
      "None                continue            global              pass\n",
      "True                def                 if                  raise\n",
      "and                 del                 import              return\n",
      "as                  elif                in                  try\n",
      "assert              else                is                  while\n",
      "async               except              lambda              with\n",
      "await               finally             nonlocal            yield\n",
      "break               for                 not                 \n",
      "\n",
      "help> quit\n",
      "\n",
      "You are now leaving help and returning to the Python interpreter.\n",
      "If you want to ask for help on a particular object directly from the\n",
      "interpreter, you can type \"help(object)\".  Executing \"help('string')\"\n",
      "has the same effect as typing a particular string at the help> prompt.\n"
     ]
    }
   ],
   "source": [
    "help()"
   ]
  },
  {
   "cell_type": "code",
   "execution_count": 31,
   "id": "c49438d8",
   "metadata": {},
   "outputs": [
    {
     "name": "stdout",
     "output_type": "stream",
     "text": [
      "Enter your income with two digits of fraction: 150000\n",
      "Enter the number of your dependents: 3\n",
      "26200.0\n"
     ]
    }
   ],
   "source": [
    "tax_rate = 0.2\n",
    "tax_deduction = 10000\n",
    "\n",
    "income = int(input(\"Enter your income with two digits of fraction: \"))\n",
    "dependents = int(input(\"Enter the number of your dependents: \"))\n",
    "if income <= tax_deduction:\n",
    "    print(\"No tax.\")\n",
    "else:\n",
    "    extra_deduction = dependents * 3000\n",
    "    tax = (income - tax_deduction - extra_deduction) * tax_rate\n",
    "    tax = str(round(tax, 2))\n",
    "    print(tax)"
   ]
  },
  {
   "cell_type": "code",
   "execution_count": 33,
   "id": "740070ca",
   "metadata": {},
   "outputs": [
    {
     "name": "stdout",
     "output_type": "stream",
     "text": [
      "Enter the length of a cube: 10\n",
      "The total surface area of 6 sides is: 600\n"
     ]
    }
   ],
   "source": [
    "length = int(input(\"Enter the length of a cube: \"))\n",
    "area = length * length * 6\n",
    "print(\"The total surface area of 6 sides is:\", area)"
   ]
  },
  {
   "cell_type": "code",
   "execution_count": 34,
   "id": "bc6d5431",
   "metadata": {},
   "outputs": [
    {
     "name": "stdout",
     "output_type": "stream",
     "text": [
      "Enter old videos rented: 5\n",
      "Enter new videos rented: 10\n",
      "Enter how many days you rented old videos: 1\n",
      "Enter how many days you rented old videos: 1\n",
      "Total fee of rent is 40\n"
     ]
    }
   ],
   "source": [
    "old = int(input(\"Enter old videos rented: \"))\n",
    "new = int(input(\"Enter new videos rented: \"))\n",
    "days_old = int(input(\"Enter how many days you rented old videos: \"))\n",
    "days_new = int(input(\"Enter how many days you rented old videos: \"))\n",
    "fee_old = 2\n",
    "fee_new = 3\n",
    "total = old * days_old * fee_old + new * days_new * fee_new\n",
    "print(\"Total fee of rent is\", total)"
   ]
  },
  {
   "cell_type": "code",
   "execution_count": 60,
   "id": "078da54d",
   "metadata": {},
   "outputs": [
    {
     "name": "stdout",
     "output_type": "stream",
     "text": [
      "Enter a float number for the radius of a sphere: 3.6\n",
      "Diameter: 7.2\n",
      "Circumference: 22.608\n",
      "Surface Area: 162.7776\n",
      "Volume: 195.33312\n"
     ]
    }
   ],
   "source": [
    "radius = float(input(\"Enter a float number for the radius of a sphere: \"))\n",
    "diameter = radius * 2\n",
    "volume = 4/3 * 3.14 * radius ** 3\n",
    "surface_area = 4 * 3.14 * radius ** 2\n",
    "circumference = 2 * 3.14 * radius\n",
    "print(f\"Diameter: {diameter}\\nCircumference: {circumference}\\nSurface Area: {surface_area}\\nVolume: {volume}\")\n"
   ]
  },
  {
   "cell_type": "code",
   "execution_count": 41,
   "id": "86e824de",
   "metadata": {},
   "outputs": [
    {
     "name": "stdout",
     "output_type": "stream",
     "text": [
      "Enter the mass of an object (kg): 10\n",
      "Enter the speed of that object (m/s): 10\n",
      "Momentum is 100.0\n"
     ]
    }
   ],
   "source": [
    "mass = float(input(\"Enter the mass of an object (kg): \"))\n",
    "speed = float(input(\"Enter the speed of that object (m/s): \"))\n",
    "momentum = mass * speed\n",
    "print(\"Momentum is\", momentum)"
   ]
  },
  {
   "cell_type": "code",
   "execution_count": 42,
   "id": "710e6bdd",
   "metadata": {},
   "outputs": [
    {
     "name": "stdout",
     "output_type": "stream",
     "text": [
      "Enter the mass of an object (kg): 10\n",
      "Enter the speed of that object (m/s): 10\n",
      "The momentum is 100.0 kg⋅m/s\n",
      "The kinetic energy is 500.0 kg·m²/s²\n"
     ]
    }
   ],
   "source": [
    "mass = float(input(\"Enter the mass of an object (kg): \"))\n",
    "speed = float(input(\"Enter the speed of that object (m/s): \"))\n",
    "momentum = mass * speed\n",
    "kinetic_energy = 1/2 * mass * speed * speed\n",
    "print(\"The momentum is\", momentum, \"kg⋅m/s\")\n",
    "print(\"The kinetic energy is\", kinetic_energy, \"kg·m²/s²\")"
   ]
  },
  {
   "cell_type": "code",
   "execution_count": 43,
   "id": "33291fd3",
   "metadata": {},
   "outputs": [
    {
     "name": "stdout",
     "output_type": "stream",
     "text": [
      "525600\n"
     ]
    }
   ],
   "source": [
    "min = 60\n",
    "hour = 24\n",
    "day = 365\n",
    "\n",
    "r = min * hour * day\n",
    "\n",
    "print(r)"
   ]
  },
  {
   "cell_type": "code",
   "execution_count": 44,
   "id": "56ee1a83",
   "metadata": {},
   "outputs": [
    {
     "name": "stdout",
     "output_type": "stream",
     "text": [
      "300000000\n",
      "9460800000000000\n"
     ]
    }
   ],
   "source": [
    "light_speed = 3 * pow(10, 8)\n",
    "\n",
    "print(light_speed)\n",
    "\n",
    "sec = 60\n",
    "min = 60\n",
    "hour = 24\n",
    "day = 365\n",
    "\n",
    "light_year = sec * min * hour * day * light_speed\n",
    "\n",
    "print(light_year)"
   ]
  },
  {
   "cell_type": "code",
   "execution_count": 62,
   "id": "6688c4fa",
   "metadata": {},
   "outputs": [
    {
     "name": "stdout",
     "output_type": "stream",
     "text": [
      "Enter kilometers: 1.852\n",
      "1.852 km equls to nautical_miles: 1.0\n"
     ]
    }
   ],
   "source": [
    "km = float(input(\"Enter kilometers: \"))\n",
    "nautical_miles = km / 1.852\n",
    "print(str(km) + \" km\" , \"equls to nautical_miles:\", nautical_miles)"
   ]
  },
  {
   "cell_type": "code",
   "execution_count": 50,
   "id": "98912fb8",
   "metadata": {},
   "outputs": [
    {
     "name": "stdout",
     "output_type": "stream",
     "text": [
      "Enter hourly wage: 10\n",
      "Enter total regular hours of working: 10\n",
      "Enter total overtime hours of working: 10\n",
      "Total pay is 250.0\n"
     ]
    }
   ],
   "source": [
    "wage = float(input(\"Enter hourly wage: \"))\n",
    "overtime_r = 1.5\n",
    "reg_h = float(input(\"Enter total regular hours of working: \"))\n",
    "overtime_h = float(input(\"Enter total overtime hours of working: \"))\n",
    "\n",
    "total = wage * reg_h + wage * overtime_r * overtime_h\n",
    "\n",
    "print(\"Total pay is\", total)"
   ]
  },
  {
   "cell_type": "code",
   "execution_count": null,
   "id": "057fd3f7",
   "metadata": {},
   "outputs": [],
   "source": []
  }
 ],
 "metadata": {
  "kernelspec": {
   "display_name": "Python 3",
   "language": "python",
   "name": "python3"
  },
  "language_info": {
   "codemirror_mode": {
    "name": "ipython",
    "version": 3
   },
   "file_extension": ".py",
   "mimetype": "text/x-python",
   "name": "python",
   "nbconvert_exporter": "python",
   "pygments_lexer": "ipython3",
   "version": "3.8.8"
  }
 },
 "nbformat": 4,
 "nbformat_minor": 5
}
