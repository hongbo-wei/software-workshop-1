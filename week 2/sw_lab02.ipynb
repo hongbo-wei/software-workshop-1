{
 "cells": [
  {
   "cell_type": "code",
   "execution_count": 3,
   "id": "2482d198-d4c0-4b04-b413-209cf5ee419b",
   "metadata": {},
   "outputs": [
    {
     "name": "stdout",
     "output_type": "stream",
     "text": [
      "It’s alive! It’s alive! It’s alive! It’s alive! "
     ]
    }
   ],
   "source": [
    "for each_pass in range(4):\n",
    "    print(\"It’s alive!\", end = \" \")"
   ]
  },
  {
   "cell_type": "markdown",
   "id": "8e3d1e1d-e0f4-45cd-ab3e-61874af3232a",
   "metadata": {},
   "source": [
    "# Week 2 Chapter 3 (Loops & Selection Statements)"
   ]
  },
  {
   "cell_type": "code",
   "execution_count": 5,
   "id": "c131d30d-ec17-4a92-bb52-c9460a78f599",
   "metadata": {},
   "outputs": [
    {
     "name": "stdin",
     "output_type": "stream",
     "text": [
      "Input the length of the base of a triangle:  1\n",
      "Input the length of the one side of a triangle:  2\n",
      "Input the length of the another side of a triangle:  2\n"
     ]
    },
    {
     "name": "stdout",
     "output_type": "stream",
     "text": [
      "It's not an equilateral triangle.\n"
     ]
    }
   ],
   "source": [
    "# Q1\n",
    "base = float(input(\"Input the length of the base of a triangle: \"))\n",
    "side_0 = float(input(\"Input the length of the one side of a triangle: \"))\n",
    "side_1 = float(input(\"Input the length of the another side of a triangle: \"))\n",
    "\n",
    "if base == side_0 == side_1:\n",
    "    print(\"It's an equilateral triangle.\")\n",
    "else:\n",
    "    print(\"It's not an equilateral triangle.\")"
   ]
  },
  {
   "cell_type": "code",
   "execution_count": 9,
   "id": "a475194d-ffd1-44b9-a2bc-cc470945f1f9",
   "metadata": {},
   "outputs": [
    {
     "name": "stdin",
     "output_type": "stream",
     "text": [
      "Input the length of the base of a triangle:  5\n",
      "Input the length of the one side of a triangle:  4\n",
      "Input the length of the another side of a triangle:  3\n"
     ]
    },
    {
     "name": "stdout",
     "output_type": "stream",
     "text": [
      "It's a right triangle.\n"
     ]
    }
   ],
   "source": [
    "# Q2\n",
    "base = float(input(\"Input the length of the base of a triangle: \"))\n",
    "side_0 = float(input(\"Input the length of the one side of a triangle: \"))\n",
    "side_1 = float(input(\"Input the length of the another side of a triangle: \"))\n",
    "\n",
    "if (base ** 2 == side_0 ** 2 + side_1 ** 2):\n",
    "    print(\"It's a right triangle.\")\n",
    "else:\n",
    "    print(\"It's not a right triangle.\")"
   ]
  },
  {
   "cell_type": "code",
   "execution_count": 10,
   "id": "07c90ae3-0f45-43b0-b6f5-4c48f9a43daf",
   "metadata": {},
   "outputs": [],
   "source": [
    "# Q3\n",
    "# Ignore"
   ]
  },
  {
   "cell_type": "code",
   "execution_count": 54,
   "id": "4b2fba13-1cd4-46d3-996a-d8a85ab4573b",
   "metadata": {},
   "outputs": [
    {
     "name": "stdin",
     "output_type": "stream",
     "text": [
      "Enter the initial height that you will drop the ball:  10\n",
      "Enter the fight bounce height:  6\n",
      "Enter the number of times the ball is allowed to continue bounce:  2\n"
     ]
    },
    {
     "name": "stdout",
     "output_type": "stream",
     "text": [
      "The total distance travelled by the ball is: 25.6 ft\n"
     ]
    }
   ],
   "source": [
    "# Q4\n",
    "h = float(input(\"Enter the initial height that you will drop the ball: \"))\n",
    "bounce_height = float(input(\"Enter the fight bounce height: \"))\n",
    "bounce_time = int(input(\"Enter the number of times the ball is allowed to continue bounce: \"))\n",
    "\n",
    "bounce_ratio = bounce_height / h\n",
    "\n",
    "distance = 0\n",
    "while bounce_time > 0:\n",
    "    distance += h\n",
    "    h *= bounce_ratio\n",
    "    distance += h\n",
    "    bounce_time -= 1\n",
    "\n",
    "print(f\"The total distance travelled by the ball is: {distance} ft\")"
   ]
  },
  {
   "cell_type": "code",
   "execution_count": 55,
   "id": "5d55f3d3-5073-45c8-a061-df1933a6d076",
   "metadata": {},
   "outputs": [
    {
     "name": "stdin",
     "output_type": "stream",
     "text": [
      "Enter the initial number of organisms:  500\n",
      "Enter the rate of growth:  2\n",
      "Enter hours it takes to achieve this rate:  6\n",
      "several hours during which the population grows 12\n"
     ]
    },
    {
     "name": "stdout",
     "output_type": "stream",
     "text": [
      "Predict the total population will be 2000 after 12 hour(s) growth\n"
     ]
    }
   ],
   "source": [
    "# Q5\n",
    "org = int(input(\"Enter the initial number of organisms: \"))\n",
    "rate = int(input(\"Enter the rate of growth: \"))\n",
    "hour_needed = int(input(\"Enter hours it takes to achieve this rate: \"))\n",
    "actual_hour = int(input(\"several hours during which the population grows\"))\n",
    "\n",
    "population = int(org * rate * (actual_hour / hour_needed))\n",
    "\n",
    "print(f\"Predict the total population will be {population} after {actual_hour} hour(s) growth\")"
   ]
  },
  {
   "cell_type": "code",
   "execution_count": 56,
   "id": "cab3f86e-8b2f-4e2d-9cae-de6de5197b16",
   "metadata": {},
   "outputs": [
    {
     "name": "stdin",
     "output_type": "stream",
     "text": [
      "Specify the number of iterations used in pi/4:  4\n"
     ]
    },
    {
     "name": "stdout",
     "output_type": "stream",
     "text": [
      "Approximation after 1 million iterations: 2.8952380952380956\n"
     ]
    }
   ],
   "source": [
    "# 6\n",
    "iter = int(input(\"Specify the number of iterations used in pi/4: \"))\n",
    "sign = 1\n",
    "result = 0\n",
    "\n",
    "for i in range(iter):\n",
    "    result += sign * 1 / (2 * i + 1)\n",
    "    sign = -sign\n",
    "\n",
    "# Multiply the result by 4 to get an approximation of π\n",
    "pi_approximation = result * 4\n",
    "\n",
    "print(\"Approximation after 1 million iterations:\", pi_approximation)"
   ]
  },
  {
   "cell_type": "code",
   "execution_count": 66,
   "id": "13ce3273-5b79-4426-943b-3787d3bb31d2",
   "metadata": {},
   "outputs": [
    {
     "name": "stdin",
     "output_type": "stream",
     "text": [
      "Specify the starting salary:  30000\n",
      "The number of years teaching:  10\n"
     ]
    },
    {
     "name": "stdout",
     "output_type": "stream",
     "text": [
      "Teaching year 1-->Salary: 30000.00\n",
      "Teaching year 2-->Salary: 30600.00\n",
      "Teaching year 3-->Salary: 31212.00\n",
      "Teaching year 4-->Salary: 31836.24\n",
      "Teaching year 5-->Salary: 32472.96\n",
      "Teaching year 6-->Salary: 33122.42\n",
      "Teaching year 7-->Salary: 33784.87\n",
      "Teaching year 8-->Salary: 34460.57\n",
      "Teaching year 9-->Salary: 35149.78\n",
      "Teaching year 10-->Salary: 35852.78\n"
     ]
    }
   ],
   "source": [
    "# 7\n",
    "salary = int(input(\"Specify the starting salary: \"))\n",
    "teach_year = int(input(\"The number of years teaching: \"))\n",
    "inc_rate = 2/100\n",
    "\n",
    "for i in range(1, teach_year + 1):\n",
    "    print(f\"Teaching year {i}\",f\"Salary: {salary:.2f}\", sep='-->')\n",
    "    salary *= inc_rate + 1"
   ]
  },
  {
   "cell_type": "code",
   "execution_count": 67,
   "id": "12349869-19f2-4b7f-a19f-040e00505906",
   "metadata": {},
   "outputs": [
    {
     "name": "stdin",
     "output_type": "stream",
     "text": [
      "Enter the investment amount:  50000\n",
      "Enter the number of years:  5\n",
      "Enter the rate as a %:  5\n"
     ]
    },
    {
     "name": "stdout",
     "output_type": "stream",
     "text": [
      "Year  Starting balance  Interest  Ending balance\n",
      " 1          50000.00   2500.00        52500.00\n",
      " 2          52500.00   2625.00        55125.00\n",
      " 3          55125.00   2756.25        57881.25\n",
      " 4          57881.25   2894.06        60775.31\n",
      " 5          60775.31   3038.77        63814.08\n",
      "Ending balance: 63814.08\n",
      "Total interest earned: 13814.08\n"
     ]
    }
   ],
   "source": [
    "# Case study - An Investment Report\n",
    "inv = float(input(\"Enter the investment amount: \"))\n",
    "period = int(input(\"Enter the number of years: \"))\n",
    "interest_rate = int(input(\"Enter the rate as a %: \")) / 100\n",
    "\n",
    "interest = 0\n",
    "total_interest = 0\n",
    "print(\"Year  Starting balance  Interest  Ending balance\")\n",
    "for i in range(1, period + 1):\n",
    "    interest = inv * interest_rate\n",
    "    end_bal = inv + interest\n",
    "    print(\"%2d%18.2f%10.2f%16.2f\" % (i, inv, interest, end_bal))\n",
    "    inv = end_bal\n",
    "    total_interest += interest\n",
    "    \n",
    "end_bal = f'{end_bal:.2f}'\n",
    "total_interest = f'{total_interest:.2f}'\n",
    "print(\"Ending balance:\", end_bal)\n",
    "print(\"Total interest earned:\", total_interest)\n",
    "    "
   ]
  },
  {
   "cell_type": "code",
   "execution_count": null,
   "id": "278f78d4-51c0-4669-8421-4ce809f3f10d",
   "metadata": {},
   "outputs": [],
   "source": []
  },
  {
   "cell_type": "code",
   "execution_count": null,
   "id": "4519d405-43b8-4dbf-9b93-fcc67a88a5d5",
   "metadata": {},
   "outputs": [],
   "source": []
  }
 ],
 "metadata": {
  "kernelspec": {
   "display_name": "Python 3 (ipykernel)",
   "language": "python",
   "name": "python3"
  },
  "language_info": {
   "codemirror_mode": {
    "name": "ipython",
    "version": 3
   },
   "file_extension": ".py",
   "mimetype": "text/x-python",
   "name": "python",
   "nbconvert_exporter": "python",
   "pygments_lexer": "ipython3",
   "version": "3.11.2"
  }
 },
 "nbformat": 4,
 "nbformat_minor": 5
}
